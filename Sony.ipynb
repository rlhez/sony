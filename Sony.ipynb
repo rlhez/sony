{
 "cells": [
  {
   "cell_type": "code",
   "execution_count": 1,
   "metadata": {
    "collapsed": true
   },
   "outputs": [],
   "source": [
    "%matplotlib inline\n",
    "import matplotlib.pyplot as plt\n",
    "import numpy as np"
   ]
  },
  {
   "cell_type": "markdown",
   "metadata": {},
   "source": [
    "# Gamification\n",
    "\n",
    "Inciter les utilisateurs à entreprendre des actions qui ont de la valeur pour le site.\n",
    "Trois éléments :\n",
    "- Des actions à faire\n",
    "- Des récompenses\n",
    "- Une correspondance assurée par des niveaux\n",
    "\n",
    "### Maquette rapide\n",
    "<img src=\"maquette.png\">"
   ]
  },
  {
   "cell_type": "markdown",
   "metadata": {},
   "source": [
    "### Les actions\n",
    "| Nom | Nombre de points\n",
    "| --- | ---\n",
    "| Action 1 | 1\n",
    "| Action 2 | 5\n",
    "| Action 3 | 50"
   ]
  },
  {
   "cell_type": "markdown",
   "metadata": {},
   "source": [
    "### Les récompenses\n",
    "\n",
    "La forme de la récompense peut avoir un effet sur la motivation à franchir un pallier d'où la mise en place de plusieures types de récompenses :\n",
    "\n",
    "- Discount sur le prochain achat\n",
    "- Bon d'achat sur le site (ou sur une catégorie)\n",
    "- Autre ... ?"
   ]
  },
  {
   "cell_type": "markdown",
   "metadata": {},
   "source": [
    "### Les niveaux\n",
    "Le passage d'un niveau à un autre corrrespond à l'atteinte d'un nombre de points déterminé à l'avance.\n",
    "En début de parcours, il est facile de passer des supérieur et plus on avance, plus la tâche est difficile.\n",
    "\n",
    "D'où le fait de prendre une échelle logarithmique pour déterminer les seuils de progression."
   ]
  },
  {
   "cell_type": "code",
   "execution_count": 2,
   "metadata": {
    "collapsed": false
   },
   "outputs": [],
   "source": [
    "nb_points = np.arange(10000)"
   ]
  },
  {
   "cell_type": "code",
   "execution_count": 3,
   "metadata": {
    "collapsed": false
   },
   "outputs": [],
   "source": [
    "def level(x):\n",
    "    return np.sqrt(x) * np.log10(x) / 20"
   ]
  },
  {
   "cell_type": "code",
   "execution_count": 4,
   "metadata": {
    "collapsed": false
   },
   "outputs": [
    {
     "name": "stderr",
     "output_type": "stream",
     "text": [
      "/usr/local/lib/python2.7/site-packages/ipykernel/__main__.py:2: RuntimeWarning: divide by zero encountered in log10\n",
      "  from ipykernel import kernelapp as app\n",
      "/usr/local/lib/python2.7/site-packages/ipykernel/__main__.py:2: RuntimeWarning: invalid value encountered in multiply\n",
      "  from ipykernel import kernelapp as app\n"
     ]
    },
    {
     "data": {
      "image/png": "[encoded data removed]",
      "text/plain": [
       "<matplotlib.figure.Figure at 0x10a451e50>"
      ]
     },
     "metadata": {},
     "output_type": "display_data"
    }
   ],
   "source": [
    "plt.plot(nb_points,level(nb_points));"
   ]
  },
  {
   "cell_type": "code",
   "execution_count": 5,
   "metadata": {
    "collapsed": true
   },
   "outputs": [],
   "source": [
    "def level_int(x):\n",
    "    return int(np.sqrt(x) * np.log10(x) / 20)"
   ]
  },
  {
   "cell_type": "code",
   "execution_count": 6,
   "metadata": {
    "collapsed": false
   },
   "outputs": [
    {
     "name": "stdout",
     "output_type": "stream",
     "text": [
      "J'ai gagné 40 points, je suis niveau 0\n",
      "J'ai gagné 100 points, je suis niveau 1\n",
      "J'ai gagné 1000 points, je suis niveau 4\n",
      "J'ai gagné 5000 points, je suis niveau 13\n",
      "J'ai gagné 10000 points, je suis niveau 20\n"
     ]
    }
   ],
   "source": [
    "print(\"J'ai gagné 40 points, je suis niveau {0}\".format(level_int(40)))\n",
    "print(\"J'ai gagné 100 points, je suis niveau {0}\".format(level_int(100)))\n",
    "print(\"J'ai gagné 1000 points, je suis niveau {0}\".format(level_int(1000)))\n",
    "print(\"J'ai gagné 5000 points, je suis niveau {0}\".format(level_int(5000)))\n",
    "print(\"J'ai gagné 10000 points, je suis niveau {0}\".format(level_int(10000)))\n"
   ]
  },
  {
   "cell_type": "markdown",
   "metadata": {},
   "source": [
    "### Attribution des récompenses\n",
    "Faisons l'hypothèse que pour chaque franchissement de niveau, on attribue une récompense\n",
    "On souhaite tester le type de récompense qui fonctionne le mieux.\n",
    "- Bon d'achat\n",
    "- Réduction sur achat\n",
    "- Cadeau\n",
    "\n",
    "Parmi les users qui ont atteint l'objectif déclenchant la récompense, on peut calculer le temps moyen (rapporté à l'échelle ci-dessus) pour déterminer le type de récompense qui suscite le plus de motivation."
   ]
  },
  {
   "cell_type": "code",
   "execution_count": 7,
   "metadata": {
    "collapsed": false
   },
   "outputs": [],
   "source": [
    "def incentive_type(level, scale=1):\n",
    "    next_level = level - level % scale + scale\n",
    "    if next_level % (scale*3) == 0:\n",
    "        incentive = \"Bon d'achat\"\n",
    "    if next_level % (scale*3) == (scale*1):\n",
    "        incentive = \"Reduction\"\n",
    "    if next_level % (scale*3) == (scale*2):\n",
    "        incentive = \"Cadeau\"\n",
    "    return incentive"
   ]
  },
  {
   "cell_type": "code",
   "execution_count": 8,
   "metadata": {
    "collapsed": true
   },
   "outputs": [],
   "source": [
    "def thresholds(nb_points_list):\n",
    "    thresholds_list = []\n",
    "    start = nb_points_list[0]\n",
    "    level = 0\n",
    "    for i in nb_points_list:\n",
    "        if not thresholds_list:\n",
    "            values = np.arange(start) + 1\n",
    "            for val in values:\n",
    "                if level_int(val) > level:\n",
    "                    thresholds_list.append( (val,level_int(val)))\n",
    "                    level = level_int(val)\n",
    "        else:\n",
    "            # thresholds_list[-1][0] corresponds to the nb of points of the last iteration\n",
    "            values = np.arange(thresholds_list[-1][0],i) + 1\n",
    "            for val in values:\n",
    "                if level_int(val) > level:\n",
    "                    thresholds_list.append( (val,level_int(val)))\n",
    "                    level = level_int(val)\n",
    "    return thresholds_list"
   ]
  },
  {
   "cell_type": "code",
   "execution_count": 9,
   "metadata": {
    "collapsed": false
   },
   "outputs": [],
   "source": [
    "one_user = {\n",
    "    \"30\": 150,\n",
    "    \"60\": 320,\n",
    "    \"90\": 600,\n",
    "    \"120\": 790,\n",
    "    \"150\": 1000,\n",
    "    \"180\": 1300,\n",
    "}"
   ]
  },
  {
   "cell_type": "code",
   "execution_count": 10,
   "metadata": {
    "collapsed": false
   },
   "outputs": [],
   "source": [
    "x = sorted(map(int, one_user.keys()))\n",
    "y = sorted(one_user.values())"
   ]
  },
  {
   "cell_type": "markdown",
   "metadata": {},
   "source": [
    "## Représentation graphique\n",
    "\n",
    "- Les lignes verticales représentent les frontières séparant les niveaux entre eux\n",
    "- Pour chaque point de la courbe on annote avec le niveau et le type d'incentive qui sera attribué lors du passage au niveau supérieur\n",
    "- L'axe des absisses représente le nombre de jours depuis l'inscription (un point tous les 30 jours)"
   ]
  },
  {
   "cell_type": "code",
   "execution_count": 11,
   "metadata": {
    "collapsed": false
   },
   "outputs": [
    {
     "data": {
      "image/png": "[encoded data removed]",
      "text/plain": [
       "<matplotlib.figure.Figure at 0x10a61ddd0>"
      ]
     },
     "metadata": {},
     "output_type": "display_data"
    }
   ],
   "source": [
    "level_thresholds = thresholds(y)\n",
    "\n",
    "plt.figure(figsize=(12,9))\n",
    "plt.plot(x,y)\n",
    "plt.plot(x, y, 'bo')\n",
    "plt.ylim(0,1800)\n",
    "plt.xlim(0,200)\n",
    "for i in range(len(one_user)):\n",
    "    plt.annotate(incentive_type(level_int(y[i])), xy=(x[i], y[i]), xytext=(x[i]-5, y[i] +100))\n",
    "for i in range(len(one_user)):\n",
    "    plt.annotate(\"level = {0}\".format(int(level_int(y[i]))), xy=(x[i], y[i]), xytext=(x[i]-5, y[i] +50))\n",
    "plt.xlabel('Nombre de jours depuis inscription')\n",
    "plt.ylabel('Nombre de points')\n",
    "plt.title('Nombre de points et Incentive a venir')\n",
    "\n",
    "for i in range(len(level_thresholds)):\n",
    "    plt.axhline(y= level_thresholds[i][0], color='gray', alpha=.4,ls='--')\n"
   ]
  }
 ],
 "metadata": {
  "kernelspec": {
   "display_name": "Python 2",
   "language": "python",
   "name": "python2"
  },
  "language_info": {
   "codemirror_mode": {
    "name": "ipython",
    "version": 2
   },
   "file_extension": ".py",
   "mimetype": "text/x-python",
   "name": "python",
   "nbconvert_exporter": "python",
   "pygments_lexer": "ipython2",
   "version": "2.7.10"
  }
 },
 "nbformat": 4,
 "nbformat_minor": 0
}
