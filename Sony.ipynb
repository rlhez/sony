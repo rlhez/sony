{
 "cells": [
  {
   "cell_type": "code",
   "execution_count": 1,
   "metadata": {
    "collapsed": true
   },
   "outputs": [],
   "source": [
    "%matplotlib inline\n",
    "import matplotlib.pyplot as plt\n",
    "import numpy as np"
   ]
  },
  {
   "cell_type": "markdown",
   "metadata": {},
   "source": [
    "# Gamification\n",
    "\n",
    "Inciter les utilisateurs à entreprendre des actions qui ont de la valeur pour le site.\n",
    "Trois éléments :\n",
    "- Des actions à faire\n",
    "- Des récompenses\n",
    "- Une correspondance assurée par des niveaux\n",
    "\n",
    "### Maquette rapide\n",
    "<img src=\"maquette.png\">"
   ]
  },
  {
   "cell_type": "markdown",
   "metadata": {},
   "source": [
    "### Les actions\n",
    "| Nom | Nombre de points\n",
    "| --- | ---\n",
    "| Action 1 | 1\n",
    "| Action 2 | 5\n",
    "| Action 3 | 50"
   ]
  },
  {
   "cell_type": "markdown",
   "metadata": {},
   "source": [
    "### Les récompenses\n",
    "\n",
    "La forme de la récompense peut avoir un effet sur la motivation à franchir un pallier d'où la mise en place de plusieures types de récompenses :\n",
    "\n",
    "- Discount sur le prochain achat\n",
    "- Bon d'achat sur le site (ou sur une catégorie)\n",
    "- Autre ... ?"
   ]
  },
  {
   "cell_type": "markdown",
   "metadata": {},
   "source": [
    "### Les niveaux\n",
    "Le passage d'un niveau à un autre corrrespond à l'atteinte d'un nombre de points déterminé à l'avance.\n",
    "En début de parcours, il est facile de passer des supérieur et plus on avance, plus la tâche est difficile.\n",
    "\n",
    "D'où le fait de prendre une échelle logarithmique pour déterminer les seuils de progression."
   ]
  },
  {
   "cell_type": "code",
   "execution_count": 2,
   "metadata": {
    "collapsed": false
   },
   "outputs": [],
   "source": [
    "nb_points = np.arange(100000)"
   ]
  },
  {
   "cell_type": "code",
   "execution_count": 3,
   "metadata": {
    "collapsed": false
   },
   "outputs": [],
   "source": [
    "def level(x):\n",
    "    return np.sqrt(x) * np.log10(x) / 20"
   ]
  },
  {
   "cell_type": "code",
   "execution_count": 4,
   "metadata": {
    "collapsed": false
   },
   "outputs": [
    {
     "name": "stderr",
     "output_type": "stream",
     "text": [
      "/usr/local/lib/python2.7/site-packages/ipykernel/__main__.py:2: RuntimeWarning: divide by zero encountered in log10\n",
      "  from ipykernel import kernelapp as app\n",
      "/usr/local/lib/python2.7/site-packages/ipykernel/__main__.py:2: RuntimeWarning: invalid value encountered in multiply\n",
      "  from ipykernel import kernelapp as app\n"
     ]
    },
    {
     "data": {
      "image/png": "[encoded data removed]",
      "text/plain": [
       "<matplotlib.figure.Figure at 0x111c40e10>"
      ]
     },
     "metadata": {},
     "output_type": "display_data"
    }
   ],
   "source": [
    "plt.plot(nb_points,level(nb_points));"
   ]
  },
  {
   "cell_type": "code",
   "execution_count": 5,
   "metadata": {
    "collapsed": true
   },
   "outputs": [],
   "source": [
    "def level_int(x):\n",
    "    return int(np.sqrt(x) * np.log10(x) / 20)"
   ]
  },
  {
   "cell_type": "code",
   "execution_count": 6,
   "metadata": {
    "collapsed": false
   },
   "outputs": [
    {
     "name": "stdout",
     "output_type": "stream",
     "text": [
      "J'ai gagné 40 points, je suis niveau 0\n",
      "J'ai gagné 100 points, je suis niveau 1\n",
      "J'ai gagné 1000 points, je suis niveau 4\n",
      "J'ai gagné 5000 points, je suis niveau 13\n",
      "J'ai gagné 10000 points, je suis niveau 20\n"
     ]
    }
   ],
   "source": [
    "print(\"J'ai gagné 40 points, je suis niveau {0}\".format(level_int(40)))\n",
    "print(\"J'ai gagné 100 points, je suis niveau {0}\".format(level_int(100)))\n",
    "print(\"J'ai gagné 1000 points, je suis niveau {0}\".format(level_int(1000)))\n",
    "print(\"J'ai gagné 5000 points, je suis niveau {0}\".format(level_int(5000)))\n",
    "print(\"J'ai gagné 10000 points, je suis niveau {0}\".format(level_int(10000)))\n"
   ]
  },
  {
   "cell_type": "markdown",
   "metadata": {},
   "source": [
    "### Attribution des récompenses\n",
    "Faisons l'hypothèse que pour chaque franchissement de niveau, on attribue une récompense\n",
    "On souhaite tester le type de récompense qui fonctionne le mieux.\n",
    "- Bon d'achat\n",
    "- Réduction sur achat\n",
    "- Cadeau\n",
    "\n",
    "Parmi les users qui ont atteint l'objectif déclenchant la récompense, on peut calculer le temps moyen (rapporté à l'échelle ci-dessus) pour déterminer le type de récompense qui suscite le plus de motivation."
   ]
  },
  {
   "cell_type": "code",
   "execution_count": 7,
   "metadata": {
    "collapsed": false
   },
   "outputs": [],
   "source": [
    "def incentive_type(level, scale=1):\n",
    "    next_level = level - level % scale + scale\n",
    "    if next_level % (scale*3) == 0:\n",
    "        incentive = \"Bon d'achat\"\n",
    "    if next_level % (scale*3) == (scale*1):\n",
    "        incentive = \"Reduction\"\n",
    "    if next_level % (scale*3) == (scale*2):\n",
    "        incentive = \"Cadeau\"\n",
    "    return incentive"
   ]
  },
  {
   "cell_type": "code",
   "execution_count": 8,
   "metadata": {
    "collapsed": true
   },
   "outputs": [],
   "source": [
    "def thresholds(nb_points_list):\n",
    "    thresholds_list = []\n",
    "    start = nb_points_list[0]\n",
    "    level = 0\n",
    "    for i in nb_points_list:\n",
    "        if not thresholds_list:\n",
    "            values = np.arange(start) + 1\n",
    "            for val in values:\n",
    "                if level_int(val) > level:\n",
    "                    thresholds_list.append( (val,level_int(val)))\n",
    "                    level = level_int(val)\n",
    "        else:\n",
    "            # thresholds_list[-1][0] corresponds to the nb of points of the last iteration\n",
    "            values = np.arange(thresholds_list[-1][0],i) + 1\n",
    "            for val in values:\n",
    "                if level_int(val) > level:\n",
    "                    thresholds_list.append( (val,level_int(val)))\n",
    "                    level = level_int(val)\n",
    "    return thresholds_list"
   ]
  },
  {
   "cell_type": "code",
   "execution_count": 9,
   "metadata": {
    "collapsed": false
   },
   "outputs": [],
   "source": [
    "one_user = {\n",
    "    \"30\": 150,\n",
    "    \"60\": 320,\n",
    "    \"90\": 600,\n",
    "    \"120\": 790,\n",
    "    \"150\": 1000,\n",
    "    \"180\": 1300,\n",
    "}"
   ]
  },
  {
   "cell_type": "code",
   "execution_count": 10,
   "metadata": {
    "collapsed": false
   },
   "outputs": [],
   "source": [
    "x = sorted(map(int, one_user.keys()))\n",
    "y = sorted(one_user.values())"
   ]
  },
  {
   "cell_type": "markdown",
   "metadata": {},
   "source": [
    "## Représentation graphique\n",
    "\n",
    "- Les lignes verticales représentent les frontières séparant les niveaux entre eux\n",
    "- Pour chaque point de la courbe on annote avec le niveau et le type d'incentive qui sera attribué lors du passage au niveau supérieur\n",
    "- L'axe des absisses représente le nombre de jours depuis l'inscription (un point tous les 30 jours)"
   ]
  },
  {
   "cell_type": "code",
   "execution_count": 11,
   "metadata": {
    "collapsed": false
   },
   "outputs": [
    {
     "data": {
      "image/png": "[encoded data removed]",
      "text/plain": [
       "<matplotlib.figure.Figure at 0x11219a650>"
      ]
     },
     "metadata": {},
     "output_type": "display_data"
    }
   ],
   "source": [
    "def generate_graph(x=x,y=y,height=1800,width=200):\n",
    "\n",
    "    level_thresholds = thresholds(y)\n",
    "\n",
    "    plt.figure(figsize=(12,9))\n",
    "    plt.plot(x,y)\n",
    "    plt.plot(x, y, 'bo')\n",
    "    plt.ylim(0,height)\n",
    "    plt.xlim(0,width)\n",
    "    for i in range(len(one_user)):\n",
    "        plt.annotate(incentive_type(level_int(y[i])), xy=(x[i], y[i]), xytext=(x[i]-5, y[i] +100))\n",
    "    for i in range(len(one_user)):\n",
    "        plt.annotate(\"level = {0}\".format(int(level_int(y[i]))), xy=(x[i], y[i]), xytext=(x[i]-5, y[i] +50))\n",
    "    plt.xlabel('Nombre de jours depuis inscription')\n",
    "    plt.ylabel('Nombre de points')\n",
    "    plt.title('Nombre de points et Incentive a venir')\n",
    "\n",
    "    for i in range(len(level_thresholds)):\n",
    "        plt.axhline(y= level_thresholds[i][0], color='gray', alpha=.4,ls='--')\n",
    "\n",
    "generate_graph()\n"
   ]
  },
  {
   "cell_type": "markdown",
   "metadata": {},
   "source": [
    "## Evaluation de la performance\n",
    "\n",
    "**Ce qui vient ci-dessous est une ébauche, peu intéressante en l'état **.\n",
    "Il me paraît difficile d'évaluer la performance d'un plan de gamification sans rentrer dans des modalités compliquées (ex. : en gardant un groupe témoin qui ne bénéficie pas d'incentive).\n",
    "\n",
    "Quand je regarde Amazon :\n",
    "- Ils offrent des réductions post achat (à la façon des tickets de caisse de supermarché)\n",
    "- Ils proposent un mois d'essai gratuit sur Amazon premium\n",
    "\n",
    "Bref, ce qui me paraît important dans l'élaboration d'un plan d'incetive :\n",
    "- Que ça ne bouffe pas la marge\n",
    "- Que les incentives proposées soient suffisamment fortes pour motiver le passage à l'action\n",
    "\n",
    "Juste après un achat / ou après une mise en panier abandonnée, qu'Amazon me propose 10 € de réduction sur les DVD, ça répond aux 2 points ci-dessus.\n",
    "\n",
    "### Etape 1\n",
    "Générons un set de données pour proposer une méthode d'évalution de la performance de notre incentive liée à la gamification.\n",
    "\n",
    "En fin d'année 1, en segmentant nos utilisateurs par décile (pour simplifier, on gadera le nbre de points), on obtient :\n",
    "\n",
    "- top : 20 % d'utilisateurs très actifs\n",
    " - 10 % hyper actifs\n",
    " - 10 % super actifs\n",
    "- 40 % : 2 / 3 utlisations\n",
    "- bottom : 40 % d'utilisateurs inactifs (level 0)\n"
   ]
  },
  {
   "cell_type": "code",
   "execution_count": 12,
   "metadata": {
    "collapsed": false
   },
   "outputs": [],
   "source": [
    "np.random.seed(seed=0)\n",
    "user_ids = np.arange(1000)\n",
    "np.random.shuffle(user_ids)\n",
    "top10 = sorted(user_ids[:100])\n",
    "top10_20 = sorted(user_ids[100:200])\n",
    "middle_40 = sorted(user_ids[200:600])\n",
    "bottom_40 = sorted(user_ids[600:1000])\n",
    "\n",
    "all_users = {\n",
    "    'top10': top10,\n",
    "    'top10_20': top10_20,\n",
    "    'middle_40': middle_40,\n",
    "    'bottom_40': bottom_40\n",
    "}"
   ]
  },
  {
   "cell_type": "code",
   "execution_count": 13,
   "metadata": {
    "collapsed": false
   },
   "outputs": [],
   "source": [
    "data_structure = {\n",
    "    \"user_id\": {\n",
    "        \"user_type\":'top10',\n",
    "        \"mois_inscription\": \"01/2016\",\n",
    "        \"pts_par_mois\" : {\n",
    "            \"01/2016\": 150,\n",
    "            \"02/2016\": 250,\n",
    "        }\n",
    "    }\n",
    "}"
   ]
  },
  {
   "cell_type": "code",
   "execution_count": 14,
   "metadata": {
    "collapsed": true
   },
   "outputs": [],
   "source": [
    "data = {}\n",
    "for u in user_ids:\n",
    "    data[u] = {\n",
    "        \"mois_inscription\": '',\n",
    "        \"pts_par_mois\": {}\n",
    "    }"
   ]
  },
  {
   "cell_type": "code",
   "execution_count": 15,
   "metadata": {
    "collapsed": false
   },
   "outputs": [],
   "source": [
    "top_10_pts = {\n",
    "    1: 150,\n",
    "    2: 320,\n",
    "    3: 600,\n",
    "    4: 800,\n",
    "    5: 1000,\n",
    "    6: 1300,\n",
    "    7: 1700,\n",
    "    8: 2100,\n",
    "    9: 2400,\n",
    "    10: 3000,\n",
    "    11: 3600,\n",
    "    12: 4000\n",
    "}\n",
    "top_10_20_pts = {\n",
    "    1: 100,\n",
    "    2: 220,\n",
    "    3: 275,\n",
    "    4: 430,\n",
    "    5: 625,\n",
    "    6: 785,\n",
    "    7: 1050,\n",
    "    8: 1110,\n",
    "    9: 1200,\n",
    "    10: 1350,\n",
    "    11: 1600,\n",
    "    12: 1800\n",
    "}\n",
    "\n",
    "middle_40_pts = {\n",
    "    1: 30,\n",
    "    2: 75,\n",
    "    3: 120,\n",
    "    4: 135,\n",
    "    5: 170,\n",
    "    6: 215,\n",
    "    7: 230,\n",
    "    8: 320,\n",
    "    9: 390,\n",
    "    10: 440,\n",
    "    11: 475,\n",
    "    12: 500\n",
    "}\n",
    "\n",
    "bottom_40_pts = {\n",
    "    1: 10,\n",
    "    2: 12,\n",
    "    3: 18,\n",
    "    4: 20,\n",
    "    5: 22,\n",
    "    6: 24,\n",
    "    7: 25,\n",
    "    8: 29,\n",
    "    9: 32,\n",
    "    10: 33,\n",
    "    11: 35,\n",
    "    12: 40\n",
    "}"
   ]
  },
  {
   "cell_type": "code",
   "execution_count": 16,
   "metadata": {
    "collapsed": false
   },
   "outputs": [],
   "source": [
    "sep = \"/\"\n",
    "\n",
    "for u in data:\n",
    "    for k in all_users:\n",
    "        if u in all_users[k]:\n",
    "            data[u]['user_type'] = k\n",
    "    \n",
    "    for i in range(1,13):\n",
    "        if int(u) < 1000 * i/12:\n",
    "            if not data[u]['mois_inscription']:\n",
    "                data[u]['mois_inscription'] = sep.join((str(i),'2016'))\n",
    "\n",
    "for u in data:\n",
    "    register_month = int(data[u]['mois_inscription'].split('/')[0])\n",
    "    if data[u]['user_type'] == 'top10':\n",
    "        for key in top_10_pts:\n",
    "            if key <= 13 - register_month:\n",
    "                data[u]['pts_par_mois'][key] = top_10_pts[key]\n",
    "    if data[u]['user_type'] == 'top10_20':\n",
    "        for key in top_10_20_pts:\n",
    "            if key <= 13 - register_month:\n",
    "                data[u]['pts_par_mois'][key] = top_10_20_pts[key]\n",
    "    if data[u]['user_type'] == 'middle_40':\n",
    "        for key in middle_40_pts:\n",
    "            if key <= 13 - register_month:\n",
    "                data[u]['pts_par_mois'][key] = middle_40_pts[key]\n",
    "    if data[u]['user_type'] == 'bottom_40':\n",
    "        for key in bottom_40_pts:\n",
    "            if key <= 13 - register_month:\n",
    "                data[u]['pts_par_mois'][key] = bottom_40_pts[key]\n",
    "        "
   ]
  },
  {
   "cell_type": "code",
   "execution_count": 17,
   "metadata": {
    "collapsed": false
   },
   "outputs": [],
   "source": [
    "mois =['1/2016','2/2016','3/2016','4/2016','5/2016','6/2016','7/2016','8/2016','9/2016','10/2016','11/2016','12/2016']\n",
    "\n",
    "def filter_dic(decile='None'):\n",
    "    total = []\n",
    "    for u in data:\n",
    "        register_month = int(data[u]['mois_inscription'].split('/')[0])\n",
    "        subtotal = 0\n",
    "        for month in mois:\n",
    "            if data[u]['mois_inscription'] == month:\n",
    "                if decile == 'None':\n",
    "                    subtotal = data[u]['pts_par_mois'][13 - register_month]\n",
    "                    total.append((subtotal,register_month))\n",
    "                else:\n",
    "                    if data[u]['user_type'] == decile:\n",
    "                        subtotal = data[u]['pts_par_mois'][13 - register_month]      \n",
    "                        total.append((subtotal,register_month))\n",
    "    return total\n",
    "                \n",
    "\n",
    "def compute_mean(total):\n",
    "    total_all = np.zeros(12)\n",
    "    count_all = np.zeros(12)\n",
    "    for i in range(1,13):\n",
    "        for elts in total:\n",
    "            if elts[1] == i and elts[0] != 0:\n",
    "                total_all[i - 1] += elts[0]\n",
    "                count_all[i - 1] += 1\n",
    "    return sorted(np.divide(total_all,count_all))\n",
    "\n",
    "all_deciles = compute_mean(filter_dic())\n",
    "top10_decile = compute_mean(filter_dic(decile='top10'))\n",
    "top10_20_decile = compute_mean(filter_dic(decile='top10_20'))\n",
    "middle_40_decile = compute_mean(filter_dic(decile='middle_40'))\n",
    "bottom_40_decile = compute_mean(filter_dic(decile='bottom_40'))"
   ]
  },
  {
   "cell_type": "code",
   "execution_count": 18,
   "metadata": {
    "collapsed": false
   },
   "outputs": [
    {
     "data": {
      "image/png": "[encoded data removed]",
      "text/plain": [
       "<matplotlib.figure.Figure at 0x11238b110>"
      ]
     },
     "metadata": {},
     "output_type": "display_data"
    }
   ],
   "source": [
    "plt.figure(figsize=(12,9))\n",
    "plt.ylim(0,4000)\n",
    "plt.xlim(0,400)\n",
    "plt.xlabel('Nombre de jours depuis inscription')\n",
    "plt.ylabel('Nombre de points')\n",
    "plt.title('Nombre de points et Incentive a venir')\n",
    "\n",
    "def generate_graph_2(x=x,y=y):\n",
    "\n",
    "    level_thresholds = thresholds(y)\n",
    "    plt.plot(x,y,label='tres interessant')\n",
    "    plt.plot(x, y, 'bo')\n",
    "\n",
    "    #for i in range(len(x)):\n",
    "        #plt.annotate(incentive_type(level_int(y[i])), xy=(x[i], y[i]), xytext=(x[i]-5, y[i] +100))\n",
    "    #for i in range(len(x)):\n",
    "        #plt.annotate(\"level = {0}\".format(int(level_int(y[i]))), xy=(x[i], y[i]), xytext=(x[i]-5, y[i] +50))\n",
    "\n",
    "    for i in range(len(level_thresholds)):\n",
    "        plt.axhline(y= level_thresholds[i][0], color='gray', alpha=.1,ls='--')\n",
    "        \n",
    "x = np.arange(30,361, 30)\n",
    "\n",
    "generate_graph_2(x,all_deciles)\n",
    "generate_graph_2(x,top10_decile)\n",
    "generate_graph_2(x,top10_20_decile)\n",
    "generate_graph_2(x,middle_40_decile)\n"
   ]
  }
 ],
 "metadata": {
  "kernelspec": {
   "display_name": "Python 2",
   "language": "python",
   "name": "python2"
  },
  "language_info": {
   "codemirror_mode": {
    "name": "ipython",
    "version": 2
   },
   "file_extension": ".py",
   "mimetype": "text/x-python",
   "name": "python",
   "nbconvert_exporter": "python",
   "pygments_lexer": "ipython2",
   "version": "2.7.10"
  }
 },
 "nbformat": 4,
 "nbformat_minor": 0
}
